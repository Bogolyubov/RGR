{
  "nbformat": 4,
  "nbformat_minor": 0,
  "metadata": {
    "colab": {
      "name": "Untitled1.ipynb",
      "provenance": [],
      "collapsed_sections": []
    },
    "kernelspec": {
      "name": "python3",
      "display_name": "Python 3"
    },
    "language_info": {
      "name": "python"
    }
  },
  "cells": [
    {
      "cell_type": "markdown",
      "source": [
        "# Греческий алфавит\n",
        "\n",
        "Заглавная|Строчная|Название|\n",
        "--|--|--\n",
        "$$A$$|$$\\alpha$$|альфа\n",
        "$$B$$|$$\\beta$$|вита (бета)\n",
        "$$\\Gamma$$|$$\\gamma$$|гамма\n",
        "$$\\Delta$$|$$\\delta$$|дельта\n",
        "$$E$$|$$\\epsilon$$|эпсилон\n",
        "$$Z$$|$$\\zeta$$|зита (дзета)\n",
        "$$H$$|$$\\eta$$|ита (эта)\n",
        "$$\\Theta$$|$$\\theta$$|фита (тета)\n",
        "$$I$$|$$\\iota$$|йота\n",
        "$$K$$|$$\\kappa$$|каппа\n",
        "$$\\Lambda$$|$$\\lambda$$|ламда (лямбда)\n",
        "$$M$$|$$\\mu$$|ми (мю)\n",
        "$$N$$|$$\\nu$$|ни (ню)\n",
        "$$\\Xi$$|$$\\xi$$|кси\n",
        "$$O$$|$$\\omicron$$|омикрон\n",
        "$$\\Pi$$|$$\\pi$$|пи\n",
        "$$P$$|$$\\rho$$|ро\n",
        "$$\\Sigma$$|$$\\sigma$$|сигма\n",
        "$$T$$|$$\\tau$$|таф (тау)\n",
        "$$\\Upsilon$$|$$\\upsilon$$|ипсилон\n",
        "$$\\Phi$$|$$\\phi$$|фи\n",
        "$$X$$|$$\\chi$$|хи\n",
        "$$\\Psi$$|$$\\psi$$|пси\n",
        "$$\\Omega$$|$$\\omega$$|омега\n",
        "\n",
        "\n",
        "Формула в отдельной строке\n",
        "$${\\displaystyle f(x)={\\frac {1}{\\sigma {\\sqrt {2\\pi }}}}e^{-{\\frac {1}{2}} \n",
        "\\left({frac {x-\\mu }{\\sigma }}\\right)^{2}}}$$\n",
        "\n",
        "Формула в тексте: ${\\displaystyle f(x)={\\frac {1}{\\sigma {\\sqrt {2\\pi }}}}e^ \n",
        "{-{\\frac {1}{2}}\\left({/frac {x-\\mu }{\\sigma}}\\right)^{2}}}$\n",
        "\n",
        "\n",
        "# Заголовок первого уровня\n",
        "\n",
        "## Заголовок второго уровня\n",
        "\n",
        "### Заголовок третьего уровня"
      ],
      "metadata": {
        "id": "Yi1uvhqM0LYi"
      }
    }
  ]
}